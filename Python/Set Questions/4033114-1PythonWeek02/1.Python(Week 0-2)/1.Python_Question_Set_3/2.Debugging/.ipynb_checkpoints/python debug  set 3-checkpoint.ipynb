{
 "cells": [
  {
   "cell_type": "code",
   "execution_count": 7,
   "id": "e0cda6bb",
   "metadata": {},
   "outputs": [
    {
     "name": "stdout",
     "output_type": "stream",
     "text": [
      "Hello, Paul\n"
     ]
    }
   ],
   "source": [
    "#1.What is wrong with the following function definition, and how do you fix it?\n",
    "\n",
    "\n",
    "def say_hello(name): #missing Colon\n",
    "    print(\"Hello, \" + name)\n",
    "say_hello(\"Paul\") #function call"
   ]
  },
  {
   "cell_type": "code",
   "execution_count": 15,
   "id": "8e33c083",
   "metadata": {},
   "outputs": [
    {
     "name": "stdout",
     "output_type": "stream",
     "text": [
      "I am 25 years old\n"
     ]
    }
   ],
   "source": [
    "#2.What error will occur in the following code, and how do you fix it?\n",
    "\n",
    "\n",
    "age = 25\n",
    "print(\"I am \" + str(age) + \" years old\") #converted int to string\n"
   ]
  },
  {
   "cell_type": "code",
   "execution_count": 97,
   "id": "52da6958",
   "metadata": {},
   "outputs": [
    {
     "data": {
      "text/plain": [
       "'Hello'"
      ]
     },
     "execution_count": 97,
     "metadata": {},
     "output_type": "execute_result"
    }
   ],
   "source": [
    "#3.Question:\n",
    "#What is the issue with the following code?\n",
    "\n",
    "def greet():\n",
    "    message = \"Hello\"\n",
    "    return message #used return instead of print\n",
    "\n",
    "greet()"
   ]
  },
  {
   "cell_type": "code",
   "execution_count": 29,
   "id": "98d811ab",
   "metadata": {},
   "outputs": [
    {
     "name": "stdout",
     "output_type": "stream",
     "text": [
      "6\n"
     ]
    }
   ],
   "source": [
    "#4.What error will occur in the following code, and how do you fix it?\n",
    "\n",
    "def add(a, b):\n",
    "    return a + b\n",
    "\n",
    "print(add(5,1)) #missing arguments\n"
   ]
  },
  {
   "cell_type": "code",
   "execution_count": 35,
   "id": "87cdb40a",
   "metadata": {},
   "outputs": [
    {
     "data": {
      "text/plain": [
       "True"
      ]
     },
     "execution_count": 35,
     "metadata": {},
     "output_type": "execute_result"
    }
   ],
   "source": [
    "#5.What is wrong with this code?\n",
    "\n",
    "def is_even(n):\n",
    "    if n % 2 == 0: #for even numbers when div by 2, the reminder is 0 \n",
    "        return True\n",
    "    else:\n",
    "        return False\n",
    "is_even(2)"
   ]
  },
  {
   "cell_type": "code",
   "execution_count": 39,
   "id": "9849beed",
   "metadata": {},
   "outputs": [
    {
     "name": "stdout",
     "output_type": "stream",
     "text": [
      "10\n"
     ]
    }
   ],
   "source": [
    "#6.What happens when you run this code?\n",
    "\n",
    "num = int(\"10\") #can convert from only one format to another\n",
    "print(num)\n"
   ]
  },
  {
   "cell_type": "code",
   "execution_count": 51,
   "id": "e2de2ed1",
   "metadata": {},
   "outputs": [
    {
     "name": "stdout",
     "output_type": "stream",
     "text": [
      "[1, 2, 3, 4]\n"
     ]
    }
   ],
   "source": [
    "#7.What will happen when you run the following code?\n",
    "\n",
    "\n",
    "numbers = [1, 2, 3, 4]\n",
    "numbers.reverse() \n",
    "numbers.sort() #sort().reverse() does not return anything\n",
    "print(numbers)\n"
   ]
  },
  {
   "cell_type": "code",
   "execution_count": 57,
   "id": "76c3f328",
   "metadata": {},
   "outputs": [
    {
     "name": "stdout",
     "output_type": "stream",
     "text": [
      "None\n"
     ]
    }
   ],
   "source": [
    "#8.What is the issue with this code?\n",
    "\n",
    "\n",
    "numbers = [1, 2, 3] \n",
    "numbers = numbers.append(4)\n",
    "print(numbers)\n"
   ]
  },
  {
   "cell_type": "code",
   "execution_count": 65,
   "id": "4e03b70d",
   "metadata": {},
   "outputs": [
    {
     "name": "stdout",
     "output_type": "stream",
     "text": [
      "11\n"
     ]
    }
   ],
   "source": [
    "#9.What will happen when you run the following code?\n",
    "\n",
    "\n",
    "\n",
    "def increment():\n",
    "\n",
    "    count = 10 #initialized within function\n",
    "    count += 1\n",
    "    print(count)\n",
    "\n",
    "increment()\n"
   ]
  },
  {
   "cell_type": "code",
   "execution_count": 71,
   "id": "2034a700",
   "metadata": {},
   "outputs": [
    {
     "name": "stdout",
     "output_type": "stream",
     "text": [
      "h\n"
     ]
    }
   ],
   "source": [
    "#10.What error will occur in the following code?\n",
    "\n",
    "text = \"Python\"\n",
    "print(text[3]) #index out of range\n"
   ]
  }
 ],
 "metadata": {
  "kernelspec": {
   "display_name": "Python 3 (ipykernel)",
   "language": "python",
   "name": "python3"
  },
  "language_info": {
   "codemirror_mode": {
    "name": "ipython",
    "version": 3
   },
   "file_extension": ".py",
   "mimetype": "text/x-python",
   "name": "python",
   "nbconvert_exporter": "python",
   "pygments_lexer": "ipython3",
   "version": "3.12.3"
  }
 },
 "nbformat": 4,
 "nbformat_minor": 5
}
