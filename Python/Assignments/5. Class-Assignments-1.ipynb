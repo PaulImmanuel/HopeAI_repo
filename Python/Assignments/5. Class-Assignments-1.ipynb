{
 "cells": [
  {
   "cell_type": "code",
   "execution_count": 1,
   "id": "eed83319-fb02-4428-ad45-820f1c7a02c4",
   "metadata": {},
   "outputs": [
    {
     "name": "stdout",
     "output_type": "stream",
     "text": [
      "Sub-fields in AI are:\n",
      "Machine Learning\n",
      "Neural Networks\n",
      "Vision\n",
      "Robotics\n",
      "Speech Processing\n",
      "Natural Language Processing\n"
     ]
    }
   ],
   "source": [
    "class SubfieldsInAI():\n",
    "    def Subfields():\n",
    "        print(\"Sub-fields in AI are:\")\n",
    "        print(\"Machine Learning\")\n",
    "        print(\"Neural Networks\")\n",
    "        print(\"Vision\")\n",
    "        print(\"Robotics\")\n",
    "        print(\"Speech Processing\")\n",
    "        print(\"Natural Language Processing\")\n",
    "\n",
    "SubfieldsInAI.Subfields()"
   ]
  },
  {
   "cell_type": "code",
   "execution_count": 3,
   "id": "52f00123-9e1e-434a-b8b2-109f182f4ca9",
   "metadata": {},
   "outputs": [],
   "source": [
    "class OddEven():\n",
    "    def OddEven():\n",
    "        numb = int(input(\"Enter a number:\"))\n",
    "        if((numb % 2) == 0):\n",
    "            print(numb,\"is Even number\")\n",
    "        else:\n",
    "            print(numb,\"is Odd number\")  "
   ]
  },
  {
   "cell_type": "code",
   "execution_count": 5,
   "id": "2248880f-fd36-4797-ae01-31f8b9bcd456",
   "metadata": {},
   "outputs": [
    {
     "name": "stdin",
     "output_type": "stream",
     "text": [
      "Enter a number: 52452\n"
     ]
    },
    {
     "name": "stdout",
     "output_type": "stream",
     "text": [
      "52452 is Even number\n"
     ]
    }
   ],
   "source": [
    "OddEven.OddEven()"
   ]
  },
  {
   "cell_type": "code",
   "execution_count": 7,
   "id": "2db740fd-7534-4f90-aadb-3040e183da7f",
   "metadata": {},
   "outputs": [],
   "source": [
    "class EligiblityForMarriage:\n",
    "    def Eligible():\n",
    "        gender = input(\"Enter your Gender:\")\n",
    "        age = int(input(\"Enter your Age:\"))\n",
    "        if(gender == 'Male'):\n",
    "            if(age >=21 ):\n",
    "                print(\"ELIGIBLE\")\n",
    "            else:\n",
    "                print(\"NOT ELIGIBLE\")\n",
    "        elif(gender == 'Female'):\n",
    "            if(age >=18 ):\n",
    "                print(\"ELIGIBLE\")\n",
    "            else:\n",
    "                print(\"NOT ELIGIBLE\")"
   ]
  },
  {
   "cell_type": "code",
   "execution_count": 11,
   "id": "84126472-e3db-4486-9131-605ded0b68d3",
   "metadata": {},
   "outputs": [
    {
     "name": "stdin",
     "output_type": "stream",
     "text": [
      "Enter your Gender: Male\n",
      "Enter your Age: 20\n"
     ]
    },
    {
     "name": "stdout",
     "output_type": "stream",
     "text": [
      "NOT ELIGIBLE\n"
     ]
    }
   ],
   "source": [
    "EligiblityForMarriage.Eligible()"
   ]
  },
  {
   "cell_type": "code",
   "execution_count": 19,
   "id": "45630f80-00e6-46e6-b9b6-b8054d907e91",
   "metadata": {},
   "outputs": [],
   "source": [
    "class FindPercent:\n",
    "    def percentage():\n",
    "        S1= int(input(\"Enter the mark of Subject1\"))\n",
    "        S2= int(input(\"Enter the mark of Subject2\"))\n",
    "        S3= int(input(\"Enter the mark of Subject3\"))\n",
    "        S4= int(input(\"Enter the mark of Subject4\"))\n",
    "        S5= int(input(\"Enter the mark of Subject5\"))\n",
    "        \n",
    "        Total = S1+S2+S3+S4+S5\n",
    "        \n",
    "        Percentage = (Total/500)*100\n",
    "        print(\"Subject1=\",S1)\n",
    "        print(\"Subject2=\",S2)\n",
    "        print(\"Subject3=\",S3)\n",
    "        print(\"Subject4=\",S4)\n",
    "        print(\"Subject5=\",S5)\n",
    "        print(\"Total : \",Total)\n",
    "        print(\"Percentage : \",Percentage) "
   ]
  },
  {
   "cell_type": "code",
   "execution_count": 21,
   "id": "4de4899f-570a-48c7-9f15-3bd1d4eefae4",
   "metadata": {},
   "outputs": [
    {
     "name": "stdin",
     "output_type": "stream",
     "text": [
      "Enter the mark of Subject1 80\n",
      "Enter the mark of Subject2 81\n",
      "Enter the mark of Subject3 82\n",
      "Enter the mark of Subject4 83\n",
      "Enter the mark of Subject5 84\n"
     ]
    },
    {
     "name": "stdout",
     "output_type": "stream",
     "text": [
      "Subject1= 80\n",
      "Subject2= 81\n",
      "Subject3= 82\n",
      "Subject4= 83\n",
      "Subject5= 84\n",
      "Total :  410\n",
      "Percentage :  82.0\n"
     ]
    }
   ],
   "source": [
    "FindPercent.percentage()"
   ]
  },
  {
   "cell_type": "code",
   "execution_count": 23,
   "id": "78d522bc-7c96-4932-82bb-bc1065d71dad",
   "metadata": {},
   "outputs": [],
   "source": [
    "class triangle:\n",
    "    def triangle():\n",
    "        h = int(input(\"Enter the Height:\"))\n",
    "        b = int(input(\"Enter the Breadth:\"))\n",
    "        \n",
    "        area = (h * b)/2\n",
    "\n",
    "        print(\"Area formula: (Height*Breadth)/2\")\n",
    "        print(\"Area of Triangle:\",area)\n",
    "        h1 = int(input(\"Enter the Height1:\"))\n",
    "        h2 = int(input(\"Enter the Height2:\"))\n",
    "        Breadth = int(input(\"Enter the Breadth:\"))\n",
    "        Perimeter = h1+h2+Breadth\n",
    "        \n",
    "        print(\"Perimeter formula: Height1+Height2+Breadth\")\n",
    "        print(\"Perimeter of Triangle:\",Perimeter)"
   ]
  },
  {
   "cell_type": "code",
   "execution_count": 25,
   "id": "35f3dd0b-e67d-410a-9df6-a6819b3b41fc",
   "metadata": {},
   "outputs": [
    {
     "name": "stdin",
     "output_type": "stream",
     "text": [
      "Enter the Height: 32\n",
      "Enter the Breadth: 34\n"
     ]
    },
    {
     "name": "stdout",
     "output_type": "stream",
     "text": [
      "Area formula: (Height*Breadth)/2\n",
      "Area of Triangle: 544.0\n"
     ]
    },
    {
     "name": "stdin",
     "output_type": "stream",
     "text": [
      "Enter the Height1: 2\n",
      "Enter the Height2: 4\n",
      "Enter the Breadth: 4\n"
     ]
    },
    {
     "name": "stdout",
     "output_type": "stream",
     "text": [
      "Perimeter formula: Height1+Height2+Breadth\n",
      "Perimeter of Triangle: 10\n"
     ]
    }
   ],
   "source": [
    "triangle.triangle()"
   ]
  }
 ],
 "metadata": {
  "kernelspec": {
   "display_name": "Python 3 (ipykernel)",
   "language": "python",
   "name": "python3"
  },
  "language_info": {
   "codemirror_mode": {
    "name": "ipython",
    "version": 3
   },
   "file_extension": ".py",
   "mimetype": "text/x-python",
   "name": "python",
   "nbconvert_exporter": "python",
   "pygments_lexer": "ipython3",
   "version": "3.10.11"
  }
 },
 "nbformat": 4,
 "nbformat_minor": 5
}
