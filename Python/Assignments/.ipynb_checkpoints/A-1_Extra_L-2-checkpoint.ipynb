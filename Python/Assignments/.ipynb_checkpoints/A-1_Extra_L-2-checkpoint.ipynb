{
 "cells": [
  {
   "cell_type": "code",
   "execution_count": 1,
   "id": "3193bd11-ebfa-4bef-a77e-d579b27a7565",
   "metadata": {},
   "outputs": [
    {
     "name": "stdout",
     "output_type": "stream",
     "text": [
      "0\n",
      "1\n",
      "2\n",
      "3\n",
      "4\n",
      "5\n",
      "6\n",
      "7\n",
      "8\n",
      "9\n",
      "10\n",
      "11\n",
      "12\n",
      "13\n",
      "14\n",
      "15\n",
      "16\n",
      "17\n",
      "18\n",
      "19\n"
     ]
    }
   ],
   "source": [
    "for num in range(0,20):\n",
    "    print(num)"
   ]
  },
  {
   "cell_type": "code",
   "execution_count": 14,
   "id": "7a5d2adc-a940-481d-bd26-5d64f575526e",
   "metadata": {},
   "outputs": [
    {
     "name": "stdout",
     "output_type": "stream",
     "text": [
      "10 11 12 13 14 15 16 17 18 19 "
     ]
    }
   ],
   "source": [
    "for num in range(10,20):\n",
    "    print(num ,end = ' ')"
   ]
  },
  {
   "cell_type": "code",
   "execution_count": 16,
   "id": "126c731d-c524-4991-91ab-f7a93d090c15",
   "metadata": {},
   "outputs": [
    {
     "name": "stdout",
     "output_type": "stream",
     "text": [
      "Number of item in the List2:\n",
      "7\n"
     ]
    }
   ],
   "source": [
    "L = [10, 20, 14, 55, 43, 87, 76]\n",
    "print(\"Number of item in the List2:\")\n",
    "print(len(L))"
   ]
  },
  {
   "cell_type": "code",
   "execution_count": 18,
   "id": "842051ca-0896-41a6-a3c3-2104b63334f9",
   "metadata": {},
   "outputs": [
    {
     "name": "stdout",
     "output_type": "stream",
     "text": [
      "Artificial Intelligence\n",
      "A\n",
      "r\n",
      "t\n",
      "i\n",
      "f\n",
      "i\n",
      "c\n",
      "i\n",
      "a\n",
      "l\n",
      " \n",
      "I\n",
      "n\n",
      "t\n",
      "e\n",
      "l\n",
      "l\n",
      "i\n",
      "g\n",
      "e\n",
      "n\n",
      "c\n",
      "e\n"
     ]
    }
   ],
   "source": [
    "a = \"Artificial Intelligence\"\n",
    "print(a)\n",
    "for chr in a:\n",
    "    print(chr)"
   ]
  },
  {
   "cell_type": "code",
   "execution_count": 20,
   "id": "2f23d4a3-8c95-4727-9863-001c6f8034c9",
   "metadata": {},
   "outputs": [
    {
     "name": "stdin",
     "output_type": "stream",
     "text": [
      "Enter your Name Paul\n",
      "Enter your Age 20\n",
      "Enter your Profession Student\n"
     ]
    },
    {
     "name": "stdout",
     "output_type": "stream",
     "text": [
      "-Your Name- Paul\n",
      "-Your age- 20\n",
      "-Your Profession- Student\n"
     ]
    }
   ],
   "source": [
    "name = input(\"Enter your Name\")\n",
    "age = input(\"Enter your Age\")\n",
    "prof = input(\"Enter your Profession\")\n",
    "\n",
    "print(\"-Your Name-\", name)\n",
    "print(\"-Your age-\", age)\n",
    "print(\"-Your Profession-\",prof)"
   ]
  },
  {
   "cell_type": "code",
   "execution_count": 22,
   "id": "24536a1d-b2a2-447a-82ba-bedb73cd3373",
   "metadata": {},
   "outputs": [
    {
     "name": "stdout",
     "output_type": "stream",
     "text": [
      "(1, 'Welcome', 2, 'Hope')\n"
     ]
    }
   ],
   "source": [
    "tuple1 = (1, 'Welcome', 2, 'Hope')\n",
    "print(tuple1)"
   ]
  },
  {
   "cell_type": "code",
   "execution_count": 24,
   "id": "6fd5c44f-77ec-4f45-aad5-d11262c7f562",
   "metadata": {},
   "outputs": [
    {
     "name": "stdout",
     "output_type": "stream",
     "text": [
      "((0, 1, 2, 3), ('python', 'HOPE'))\n"
     ]
    }
   ],
   "source": [
    "Tuple1 = (0, 1, 2, 3)\n",
    "Tuple2 = ('python', 'HOPE')\n",
    "\n",
    "Tuple3 = (Tuple1, Tuple2)\n",
    "\n",
    "print(Tuple3)"
   ]
  },
  {
   "cell_type": "code",
   "execution_count": 34,
   "id": "9053c092-2af6-46d4-a35b-7a612af46e76",
   "metadata": {},
   "outputs": [
    {
     "name": "stdout",
     "output_type": "stream",
     "text": [
      "19 is odd\n",
      "25 is odd\n",
      "1 is odd\n"
     ]
    }
   ],
   "source": [
    "numlist = (20,10,16,19,25,1,276,188)\n",
    "for num in numlist:\n",
    "    if(num % 2 != 0):\n",
    "        print(num, 'is odd')"
   ]
  },
  {
   "cell_type": "code",
   "execution_count": null,
   "id": "2d712d87-d216-4c40-a427-9cb9d6cdd62c",
   "metadata": {},
   "outputs": [],
   "source": [
    "numlist = (20,10,16,19,25,1,276,188)\n",
    "for num in numlist:\n",
    "    if(num % 2 == 0):\n",
    "        print(num, 'is even')"
   ]
  }
 ],
 "metadata": {
  "kernelspec": {
   "display_name": "Python 3 (ipykernel)",
   "language": "python",
   "name": "python3"
  },
  "language_info": {
   "codemirror_mode": {
    "name": "ipython",
    "version": 3
   },
   "file_extension": ".py",
   "mimetype": "text/x-python",
   "name": "python",
   "nbconvert_exporter": "python",
   "pygments_lexer": "ipython3",
   "version": "3.12.3"
  }
 },
 "nbformat": 4,
 "nbformat_minor": 5
}
