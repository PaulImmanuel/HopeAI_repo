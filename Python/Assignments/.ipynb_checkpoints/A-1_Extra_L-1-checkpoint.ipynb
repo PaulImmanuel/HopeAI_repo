{
 "cells": [
  {
   "cell_type": "code",
   "execution_count": 12,
   "id": "8b0ff92d-5ba4-4058-b0cb-acd3893dcb0b",
   "metadata": {},
   "outputs": [
    {
     "name": "stdout",
     "output_type": "stream",
     "text": [
      "HOPE AI\n"
     ]
    }
   ],
   "source": [
    "print(\"HOPE AI\")"
   ]
  },
  {
   "cell_type": "code",
   "execution_count": 14,
   "id": "8cbf49ae-1c40-4ba7-be89-ce1730af9485",
   "metadata": {},
   "outputs": [
    {
     "name": "stdin",
     "output_type": "stream",
     "text": [
      "Enter your institute name? : Hope AI\n"
     ]
    }
   ],
   "source": [
    "str = input(\"Enter your institute name? :\")"
   ]
  },
  {
   "cell_type": "code",
   "execution_count": 3,
   "id": "5a6900c0-a784-479a-85ca-a8f0961f61e8",
   "metadata": {},
   "outputs": [
    {
     "name": "stdin",
     "output_type": "stream",
     "text": [
      "Enter your name: Paul Immanuel\n",
      "Enter your age: 20\n",
      "Enter your school name: Lisieux\n",
      "Enter your degree: B.tech\n"
     ]
    }
   ],
   "source": [
    "name = input(\"Enter your name:\")\n",
    "age = int(input(\"Enter your age:\"))\n",
    "school = input(\"Enter your school name:\")\n",
    "degree = input(\"Enter your degree:\")"
   ]
  },
  {
   "cell_type": "code",
   "execution_count": 15,
   "id": "4a088955-cd08-4722-8a4e-f69314228b15",
   "metadata": {},
   "outputs": [
    {
     "name": "stdout",
     "output_type": "stream",
     "text": [
      "add = 77\n"
     ]
    }
   ],
   "source": [
    "a = 43\n",
    "b = 34\n",
    "sum = a + b\n",
    "print(\"add =\",sum)"
   ]
  },
  {
   "cell_type": "code",
   "execution_count": 16,
   "id": "26281fc8-62bb-4a45-9905-2d3215fd9a2a",
   "metadata": {},
   "outputs": [
    {
     "name": "stdout",
     "output_type": "stream",
     "text": [
      "sub = 9\n"
     ]
    }
   ],
   "source": [
    "a = 43\n",
    "b = 34\n",
    "dif = a - b\n",
    "print(\"sub =\",dif)"
   ]
  },
  {
   "cell_type": "code",
   "execution_count": 17,
   "id": "b8fda59b-6633-4e50-9c62-b9aa2e1ba636",
   "metadata": {},
   "outputs": [
    {
     "name": "stdout",
     "output_type": "stream",
     "text": [
      "Mul 6111\n"
     ]
    }
   ],
   "source": [
    "a = 63\n",
    "b = 97\n",
    "Mul = a * b\n",
    "print(\"Mul\",Mul)"
   ]
  },
  {
   "cell_type": "code",
   "execution_count": 18,
   "id": "1b2c733b-f9a9-40a6-9aee-eb78a62a059c",
   "metadata": {},
   "outputs": [
    {
     "name": "stdout",
     "output_type": "stream",
     "text": [
      "2.4516129032258065\n"
     ]
    }
   ],
   "source": [
    "a = 76\n",
    "b = 31\n",
    "div= a/b\n",
    "print(div)"
   ]
  },
  {
   "cell_type": "code",
   "execution_count": 19,
   "id": "f8b77982-dbf6-47b3-8b5d-eb8505e91314",
   "metadata": {},
   "outputs": [
    {
     "name": "stdout",
     "output_type": "stream",
     "text": [
      "2\n"
     ]
    }
   ],
   "source": [
    "a = 76\n",
    "b = 31\n",
    "floorDiv = a//b\n",
    "print(floorDiv)"
   ]
  },
  {
   "cell_type": "code",
   "execution_count": 20,
   "id": "0bf96f7b-5848-493f-8b24-4c9f05979302",
   "metadata": {},
   "outputs": [
    {
     "name": "stdout",
     "output_type": "stream",
     "text": [
      "14\n"
     ]
    }
   ],
   "source": [
    "a = 76\n",
    "b = 31\n",
    "mod = a % b\n",
    "print(mod)"
   ]
  },
  {
   "cell_type": "code",
   "execution_count": 21,
   "id": "01110b72-a268-4888-b3f3-043fd71bd355",
   "metadata": {},
   "outputs": [
    {
     "name": "stdout",
     "output_type": "stream",
     "text": [
      "256\n"
     ]
    }
   ],
   "source": [
    "a = 4\n",
    "b = 4\n",
    "power = pow(a,b)\n",
    "print(power)"
   ]
  }
 ],
 "metadata": {
  "kernelspec": {
   "display_name": "Python 3 (ipykernel)",
   "language": "python",
   "name": "python3"
  },
  "language_info": {
   "codemirror_mode": {
    "name": "ipython",
    "version": 3
   },
   "file_extension": ".py",
   "mimetype": "text/x-python",
   "name": "python",
   "nbconvert_exporter": "python",
   "pygments_lexer": "ipython3",
   "version": "3.10.11"
  }
 },
 "nbformat": 4,
 "nbformat_minor": 5
}
