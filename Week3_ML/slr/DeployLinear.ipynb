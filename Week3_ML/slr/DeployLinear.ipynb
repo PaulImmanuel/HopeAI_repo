{
 "cells": [
  {
   "cell_type": "code",
   "execution_count": 1,
   "id": "f4749a26-8b34-41a4-aa24-1e713519eb15",
   "metadata": {},
   "outputs": [],
   "source": [
    "import warnings\n",
    "warnings.filterwarnings(\"ignore\")"
   ]
  },
  {
   "cell_type": "code",
   "execution_count": 2,
   "id": "4df103d5",
   "metadata": {
    "id": "4df103d5"
   },
   "outputs": [],
   "source": [
    "import pickle"
   ]
  },
  {
   "cell_type": "code",
   "execution_count": 3,
   "id": "14d9eab7",
   "metadata": {
    "id": "14d9eab7"
   },
   "outputs": [],
   "source": [
    "load_model=pickle.load(open(\"finalized_model.sav\",'rb'))"
   ]
  },
  {
   "cell_type": "code",
   "execution_count": 4,
   "id": "2b8106e1",
   "metadata": {
    "id": "2b8106e1",
    "outputId": "557ad232-3603-4262-8379-8716dca570e3"
   },
   "outputs": [],
   "source": [
    "result=load_model.predict([[0]])"
   ]
  },
  {
   "cell_type": "code",
   "execution_count": 5,
   "id": "75592e40",
   "metadata": {
    "id": "75592e40",
    "outputId": "e896e569-36f8-4f84-b16a-ff736f6bb569"
   },
   "outputs": [
    {
     "name": "stdout",
     "output_type": "stream",
     "text": [
      "expected result [[26816.19224403]]\n"
     ]
    }
   ],
   "source": [
    "print(\"expected result\",result)"
   ]
  }
 ],
 "metadata": {
  "colab": {
   "provenance": []
  },
  "kernelspec": {
   "display_name": "Python 3 (ipykernel)",
   "language": "python",
   "name": "python3"
  },
  "language_info": {
   "codemirror_mode": {
    "name": "ipython",
    "version": 3
   },
   "file_extension": ".py",
   "mimetype": "text/x-python",
   "name": "python",
   "nbconvert_exporter": "python",
   "pygments_lexer": "ipython3",
   "version": "3.10.11"
  }
 },
 "nbformat": 4,
 "nbformat_minor": 5
}
