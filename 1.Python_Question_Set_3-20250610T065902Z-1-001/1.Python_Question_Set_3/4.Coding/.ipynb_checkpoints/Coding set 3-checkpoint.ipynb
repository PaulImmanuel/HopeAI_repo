{
 "cells": [
  {
   "cell_type": "code",
   "execution_count": 68,
   "id": "511e5dbe",
   "metadata": {},
   "outputs": [],
   "source": [
    "#1. Square of Numbers from 1 to 5\n",
    "Output:\n",
    "1 4 9 16 25\n"
   ]
  },
  {
   "cell_type": "code",
   "execution_count": 64,
   "id": "4cc8851e-4050-4146-bc86-0792b64d3dfc",
   "metadata": {},
   "outputs": [
    {
     "name": "stdout",
     "output_type": "stream",
     "text": [
      "1 4 9 16 25 "
     ]
    }
   ],
   "source": [
    "for i in range (1,6):\n",
    "    print(i * i, end=' ')"
   ]
  },
  {
   "cell_type": "code",
   "execution_count": 74,
   "id": "e886abee",
   "metadata": {},
   "outputs": [],
   "source": [
    "#2.Swap Two Variables Without Using a Temporary Variable\n",
    "Question: Write a Python program to swap two variables a = 5 and b = 10 without using a temporary variable.\n",
    "\n"
   ]
  },
  {
   "cell_type": "code",
   "execution_count": 14,
   "id": "5ca0c785-b8c9-4d0c-88a5-290883c3105b",
   "metadata": {},
   "outputs": [
    {
     "name": "stdout",
     "output_type": "stream",
     "text": [
      "a 10\n",
      "b 5\n"
     ]
    }
   ],
   "source": [
    "a= 5\n",
    "b = 10\n",
    "a,b = b,a\n",
    "\n",
    "print(\"a\",a)\n",
    "print(\"b\",b)"
   ]
  },
  {
   "cell_type": "code",
   "execution_count": null,
   "id": "adfc0479",
   "metadata": {},
   "outputs": [],
   "source": [
    " #3.Find Even and Odd Numbers in a List\n",
    "Question: Write a Python program to separate even and odd numbers from the list [12, 17, 19, 24, 35, 40, 56].\n",
    "\n"
   ]
  },
  {
   "cell_type": "code",
   "execution_count": 52,
   "id": "b744e16e-3f2c-43e1-b4a0-224c45b1b7fc",
   "metadata": {},
   "outputs": [
    {
     "name": "stdout",
     "output_type": "stream",
     "text": [
      "even [12, 24, 40, 56]\n",
      "odd [17, 19, 35]\n"
     ]
    }
   ],
   "source": [
    "lst = [12, 17, 19, 24, 35, 40, 56]\n",
    "l = []\n",
    "l2 =[]\n",
    "for i in lst:\n",
    "    if i % 2 ==0:\n",
    "        l.append(i)\n",
    "    else:\n",
    "        l2.append(i)\n",
    "\n",
    "print(\"even\",l)\n",
    "print(\"odd\",l2)"
   ]
  },
  {
   "cell_type": "code",
   "execution_count": null,
   "id": "9bd0afd7",
   "metadata": {},
   "outputs": [],
   "source": [
    "#4. Reverse a Number\n",
    "Question: Write a Python program to reverse the number 12345.\n",
    "\n"
   ]
  },
  {
   "cell_type": "code",
   "execution_count": 60,
   "id": "73a4857b-2f59-4126-86fd-77fcf0eb2f2c",
   "metadata": {},
   "outputs": [
    {
     "name": "stdout",
     "output_type": "stream",
     "text": [
      "54321\n"
     ]
    }
   ],
   "source": [
    "number= 12345\n",
    "numberrev = int(str(number)[::-1])\n",
    "print(numberrev)"
   ]
  },
  {
   "cell_type": "code",
   "execution_count": null,
   "id": "baf1f666",
   "metadata": {},
   "outputs": [],
   "source": [
    "#5. Find the Second Largest Number in a List\n",
    "Question: Write a Python program to find the second largest number in the list [12, 45, 98, 34, 23].\n"
   ]
  },
  {
   "cell_type": "code",
   "execution_count": 56,
   "id": "eb6e77d2",
   "metadata": {},
   "outputs": [
    {
     "name": "stdout",
     "output_type": "stream",
     "text": [
      "Second largest number 45\n"
     ]
    }
   ],
   "source": [
    "numbers = [12, 45, 98, 34, 23]\n",
    "\n",
    "largest1 = max(numbers)\n",
    "numbers.remove(largest1)\n",
    "\n",
    "largest2 = max(numbers)\n",
    "\n",
    "print(\"Second largest number\", largest2)\n"
   ]
  },
  {
   "cell_type": "code",
   "execution_count": null,
   "id": "cf27438f",
   "metadata": {},
   "outputs": [],
   "source": []
  },
  {
   "cell_type": "code",
   "execution_count": null,
   "id": "8a8e84b3",
   "metadata": {},
   "outputs": [],
   "source": []
  },
  {
   "cell_type": "code",
   "execution_count": null,
   "id": "a73f86c4",
   "metadata": {},
   "outputs": [],
   "source": []
  }
 ],
 "metadata": {
  "kernelspec": {
   "display_name": "Python 3 (ipykernel)",
   "language": "python",
   "name": "python3"
  },
  "language_info": {
   "codemirror_mode": {
    "name": "ipython",
    "version": 3
   },
   "file_extension": ".py",
   "mimetype": "text/x-python",
   "name": "python",
   "nbconvert_exporter": "python",
   "pygments_lexer": "ipython3",
   "version": "3.12.3"
  }
 },
 "nbformat": 4,
 "nbformat_minor": 5
}
