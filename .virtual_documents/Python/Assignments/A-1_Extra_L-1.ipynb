print("HOPE AI")


str = input("Enter your institute name? :")


name = input("Enter your name:")
age = int(input("Enter your age:"))
school = input("Enter your school name:")
degree = input("Enter your degree:")


a = 43
b = 34
sum = a + b
print("add =",sum)


a = 43
b = 34
dif = a - b
print("Sub =",dif)


a = 63
b = 97
Mul = a * b
print("Mul =",Mul)


a = 76
b = 31
div= a/b
print("Float Div =",div)


a = 76
b = 31
floorDiv = a//b
print("Floor Div =",floorDiv)


a = 76
b = 31
mod = a % b
print("Modulo =",mod)


a = 4
b = 4
power = pow(a,b)
print("Power =",power)
