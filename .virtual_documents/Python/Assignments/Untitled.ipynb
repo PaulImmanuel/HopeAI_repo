for num in range(0,20):
    print(num)


for num in range(10,20):
    print(num ,end = ' ')


L = [10, 20, 14, 55, 43, 87, 76]
print("Number of item in the List2:")
print(len(L))


a = "Artificial Intelligence"
print(a)
for chr in a:
    print(chr)


name = input("Enter your Name")
age = input("Enter your Age")
prof = input("Enter your Profession")

print("-Your Name-", name)
print("-Your age-", age)
print("-Your Profession-",prof)


tuple1 = (1, 'Welcome', 2, 'Hope')
print(tuple1)


Tuple1 = (0, 1, 2, 3)
Tuple2 = ('python', 'HOPE')

Tuple3 = (Tuple1, Tuple2)

print(Tuple3)


numlist = (20,10,16,19,25,1,276,188)
for num in numlist:
    if(num % 2 == 0):
        print(num, 'is even')



