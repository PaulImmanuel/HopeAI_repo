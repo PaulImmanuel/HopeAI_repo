class SubfieldsInAI():
    def Subfields():
        print("Sub-fields in AI are:")
        print("Machine Learning")
        print("Neural Networks")
        print("Vision")
        print("Robotics")
        print("Speech Processing")
        print("Natural Language Processing")

SubfieldsInAI.Subfields()


class OddEven():
    def OddEven():
        numb = int(input("Enter a number:"))
        if((numb % 2) == 0):
            print(numb,"is Even number")
        else:
            print(numb,"is Odd number")  


OddEven.OddEven()


class EligiblityForMarriage:
    def Eligible():
        gender = input("Enter your Gender:")
        age = int(input("Enter your Age:"))
        if(gender == 'Male'):
            if(age >=21 ):
                print("ELIGIBLE")
            else:
                print("NOT ELIGIBLE")
        elif(gender == 'Female'):
            if(age >=18 ):
                print("ELIGIBLE")
            else:
                print("NOT ELIGIBLE")


EligiblityForMarriage.Eligible()


class FindPercent:
    def percentage():
        S1= int(input("Enter the mark of Subject1"))
        S2= int(input("Enter the mark of Subject2"))
        S3= int(input("Enter the mark of Subject3"))
        S4= int(input("Enter the mark of Subject4"))
        S5= int(input("Enter the mark of Subject5"))
        
        Total = S1+S2+S3+S4+S5
        
        Percentage = (Total/500)*100
        print("Subject1=",S1)
        print("Subject2=",S2)
        print("Subject3=",S3)
        print("Subject4=",S4)
        print("Subject5=",S5)
        print("Total : ",Total)
        print("Percentage : ",Percentage) 


FindPercent.percentage()


class triangle:
    def triangle():
        h = int(input("Enter the Height:"))
        b = int(input("Enter the Breadth:"))
        
        area = (h * b)/2

        print("Area formula: (Height*Breadth)/2")
        print("Area of Triangle:",area)
        h1 = int(input("Enter the Height1:"))
        h2 = int(input("Enter the Height2:"))
        Breadth = int(input("Enter the Breadth:"))
        Perimeter = h1+h2+Breadth
        
        print("Perimeter formula: Height1+Height2+Breadth")
        print("Perimeter of Triangle:",Perimeter)



