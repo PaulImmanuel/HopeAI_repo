print("Welcome to Assignment-1")


Num1 = 10
Num2 = 30
Add = Num1 + Num2
print("Num1=", Num1)
print("Num2=", Num2)
print("Add=", Add)


# Body Mass Index
bmi = 20
print("Enter the BMI Index:", bmi)
if bmi < 18.5:
    print("Underweight")
elif 18.5 <= bmi < 25:
    print("Normal weight")
elif 25 <= bmi < 30:
    print("Overweight")
else:
    print("Very Overweight")
